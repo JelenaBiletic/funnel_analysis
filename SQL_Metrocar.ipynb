{
  "nbformat": 4,
  "nbformat_minor": 0,
  "metadata": {
    "colab": {
      "provenance": []
    },
    "kernelspec": {
      "name": "python3",
      "display_name": "Python 3"
    },
    "language_info": {
      "name": "python"
    }
  },
  "cells": [
    {
      "cell_type": "markdown",
      "source": [
        "# **Annex 1: User Acquisition and Sign-ups**"
      ],
      "metadata": {
        "id": "bYne-0R2ZSmQ"
      }
    },
    {
      "cell_type": "markdown",
      "source": [
        "**1. How many times was the app downloaded?**\n",
        "\n",
        "\n",
        "```\n",
        "SELECT\n",
        "\tCOUNT(DISTINCT app_download_key)\n",
        "FROM app_downloads\n",
        "```\n",
        "Answer: **23608**\n"
      ],
      "metadata": {
        "id": "0RuVPr87ZZMz"
      }
    },
    {
      "cell_type": "markdown",
      "source": [
        "**2. How many users signed up on the app?**\n",
        "\n",
        "\n",
        "```\n",
        "SELECT\n",
        "\tCOUNT(DISTINCT user_id)\n",
        "FROM signups\n",
        "```\n",
        "Answer: **17623**\n"
      ],
      "metadata": {
        "id": "_WVLOwddZo2r"
      }
    },
    {
      "cell_type": "markdown",
      "source": [
        "# **Annex 2: Ride Requests and Completions**"
      ],
      "metadata": {
        "id": "ih5yFH67aZTK"
      }
    },
    {
      "cell_type": "markdown",
      "source": [
        "**3. How many rides were requested through the app?**\n",
        "\n",
        "\n",
        "```\n",
        "SELECT\n",
        "\tCOUNT(DISTINCT ride_id)\n",
        "FROM ride_requests\n",
        "```\n",
        "Answer: **385477**\n"
      ],
      "metadata": {
        "id": "yVjhqBh7ak4V"
      }
    },
    {
      "cell_type": "markdown",
      "source": [
        "**4. How many rides were requested and completed through the app?**\n",
        "\n",
        "\n",
        "```\n",
        "SELECT\n",
        "\tCOUNT(DISTINCT ride_id) AS requested,\n",
        "    (SELECT\n",
        "       COUNT(DISTINCT ride_id)\n",
        "\t FROM ride_requests\n",
        "     WHERE cancel_ts IS NULL) AS completed\n",
        "FROM ride_requests\n",
        "```\n",
        "\n",
        "Answer:\n",
        "\n",
        "*   **requested: 385477**\n",
        "*   **completed: 223652**\n",
        "\n"
      ],
      "metadata": {
        "id": "_nK7skoPa67W"
      }
    },
    {
      "cell_type": "markdown",
      "source": [
        "**5. How many rides were requested and how many unique users requested a ride?**\n",
        "\n",
        "```\n",
        "SELECT\n",
        "\tCOUNT(DISTINCT ride_id) AS requested_rides,\n",
        "    COUNT(DISTINCT user_id) AS unique_users\n",
        "FROM ride_requests\n",
        "```\n",
        "Answer:\n",
        "* **requested_rides: 385477**\n",
        "* **unique_users: 12406**\n"
      ],
      "metadata": {
        "id": "WCU0eLckbm9R"
      }
    },
    {
      "cell_type": "markdown",
      "source": [
        "# **Annex 3: Ride Details and Performance**"
      ],
      "metadata": {
        "id": "TlMPijPRco9K"
      }
    },
    {
      "cell_type": "markdown",
      "source": [
        "**6. What is the average time of a ride from pick up to drop off?**\n",
        "\n",
        "\n",
        "```\n",
        "SELECT\n",
        "\tAVG(dropoff_ts - pickup_ts) AS avg_time_of_ride\n",
        "FROM ride_requests\n",
        "```\n",
        "Answer: **0 days 00:52:36.738773**\n"
      ],
      "metadata": {
        "id": "NbZTUz9zctAH"
      }
    },
    {
      "cell_type": "markdown",
      "source": [
        "**7. How many rides were accepted by a driver?**\n",
        "\n",
        "\n",
        "```\n",
        "SELECT\n",
        "\tCOUNT(driver_id)\n",
        "FROM ride_requests\n",
        "WHERE driver_id IS NOT NULL\n",
        "```\n",
        "\n",
        "\n",
        "Answer: **248379**"
      ],
      "metadata": {
        "id": "_5tICOJxdIUC"
      }
    },
    {
      "cell_type": "markdown",
      "source": [
        "# **Annex 4: Payment and Revenue**"
      ],
      "metadata": {
        "id": "qc8f5rPbdcnB"
      }
    },
    {
      "cell_type": "markdown",
      "source": [
        "**8. How many rides did we successfully collect payments and how much was collected?**\n",
        "\n",
        "\n",
        "```\n",
        "SELECT\n",
        "\tCOUNT(DISTINCT transaction_id) AS total_rides,\n",
        "\tSUM(purchase_amount_usd) AS total_payments\n",
        "FROM transactions\n",
        "WHERE charge_status = 'Approved'\n",
        "```\n",
        "\n",
        "\n",
        "Answer:\n",
        "* **total_rides: 212628**\n",
        "* **total_payments: 4251667.61**"
      ],
      "metadata": {
        "id": "ZS3cz1c6diP1"
      }
    },
    {
      "cell_type": "markdown",
      "source": [
        "# **Annex 5: Platform-Specific Analysis**"
      ],
      "metadata": {
        "id": "X_YdNqnCeQE5"
      }
    },
    {
      "cell_type": "markdown",
      "source": [
        "**9. How many ride requests happened on each platform?**\n",
        "\n",
        "\n",
        "```\n",
        "SELECT\n",
        "\tap.platform,\n",
        "  COUNT(DISTINCT ride_id) AS total_rides\n",
        "FROM ride_requests r\n",
        "FULL JOIN signups s\n",
        "\tON r.user_id = s.user_id\n",
        "FULL JOIN app_downloads ap\n",
        "\tON s.session_id = ap.app_download_key\n",
        "GROUP BY 1\n",
        "```\n",
        "\n",
        "Answer:\n",
        "* **android: 112317**\n",
        "* **ios: 234693**\n",
        "* **web: 38467**"
      ],
      "metadata": {
        "id": "s9w4jhBreS4V"
      }
    },
    {
      "cell_type": "markdown",
      "source": [
        "# **Annex 6: User Drop-offs and Conversion Rates**"
      ],
      "metadata": {
        "id": "jUwDKf8_e9yY"
      }
    },
    {
      "cell_type": "markdown",
      "source": [
        "**10. What is the drop-off from users signing up to users requesting a ride?**\n",
        "\n",
        "\n",
        "```\n",
        "SELECT\n",
        "\t100 - (ROUND(((COUNT(DISTINCT user_id)::float)\n",
        "          /(SELECT\n",
        "                COUNT(DISTINCT user_id)\n",
        "            FROM signups))::numeric*100,1)) AS dropp_off\n",
        "FROM ride_requests\n",
        "```\n",
        "\n",
        "\n",
        "Answer: **29.6**"
      ],
      "metadata": {
        "id": "pyHO7J_2fAjP"
      }
    },
    {
      "cell_type": "markdown",
      "source": [
        "# **Annex 7: Unique User Requests and Completions**"
      ],
      "metadata": {
        "id": "_ULXnFRtfs9t"
      }
    },
    {
      "cell_type": "markdown",
      "source": [
        "**11. How many unique users requested a ride through the Metrocar app?**\n",
        "\n",
        "\n",
        "```\n",
        "SELECT\n",
        "\tCOUNT(DISTINCT user_id)\n",
        "FROM ride_requests\n",
        "```\n",
        "\n",
        "\n",
        "Answer: **12406**"
      ],
      "metadata": {
        "id": "pdLSjR1pfxBE"
      }
    },
    {
      "cell_type": "markdown",
      "source": [
        "**12. How many unique users completed a ride through the Metrocar app?**\n",
        "\n",
        "\n",
        "```\n",
        "SELECT\n",
        "\tCOUNT(DISTINCT user_id)\n",
        "FROM ride_requests\n",
        "WHERE cancel_ts IS NULL\n",
        "```\n",
        "\n",
        "\n",
        "Answer: **6233**"
      ],
      "metadata": {
        "id": "-W8yFFSYgKp4"
      }
    },
    {
      "cell_type": "markdown",
      "source": [
        "# **Annex 8: User-Level Conversion Rates (Percent of Previous Approach)**"
      ],
      "metadata": {
        "id": "wsCluF05ghvA"
      }
    },
    {
      "cell_type": "markdown",
      "source": [
        "**13. Of the users that signed up on the app, what percentage these users requested a ride?**\n",
        "\n",
        "\n",
        "```\n",
        "SELECT\n",
        "\t(ROUND(((COUNT(DISTINCT user_id)::float)\n",
        "          /(SELECT\n",
        "              COUNT(DISTINCT user_id)\n",
        "            FROM signups))::numeric*100,1)) AS per_users_who_requested_ride\n",
        "FROM ride_requests\n",
        "```\n",
        "\n",
        "\n",
        "Answer: **70.4**"
      ],
      "metadata": {
        "id": "y5y2st2lgn-K"
      }
    },
    {
      "cell_type": "markdown",
      "source": [
        "**14. Of the users that signed up on the app, what percentage these users completed a ride?**\n",
        "\n",
        "\n",
        "```\n",
        "SELECT\n",
        "\t(ROUND(((COUNT(DISTINCT user_id)::float)\n",
        "          /(SELECT\n",
        "              COUNT(DISTINCT user_id)\n",
        "            FROM signups))::numeric*100,1))\n",
        "FROM ride_requests\n",
        "WHERE cancel_ts IS NULL\n",
        "```\n",
        "\n",
        "\n",
        "Answer: **35.4**"
      ],
      "metadata": {
        "id": "1wRRJXgShOuo"
      }
    },
    {
      "cell_type": "markdown",
      "source": [
        "**15. Using the \"percent of previous\" approach, what are the user-level conversion rates for the first 3 stages of the funnel (app download to signup and signup to ride requested)?**\n",
        "\n",
        "--\"percent of previous\" approach calculates the conversion rate of each stage relative to the number of users in the previous stage\n",
        "\n",
        "\n",
        "```\n",
        "WITH download_signup AS(\n",
        "SELECT\n",
        "\t(ROUND(((COUNT(DISTINCT user_id)::float)\n",
        "         /(SELECT\n",
        "            COUNT(DISTINCT app_download_key)\n",
        "          FROM app_downloads))::numeric*100,1)) AS app_to_signup\n",
        "FROM signups\n",
        "),\n",
        "\n",
        "signup_ride_requested AS (\n",
        " SELECT\n",
        "\t(ROUND(((COUNT(DISTINCT user_id)::float)\n",
        "        /(SELECT\n",
        "            COUNT(DISTINCT user_id)\n",
        "         FROM signups))::numeric*100,1)) AS signup_requested\n",
        "FROM ride_requests\n",
        ")\n",
        "\n",
        "SELECT\n",
        "\tapp_to_signup,\n",
        "\tsignup_requested\n",
        "FROM download_signup\n",
        "CROSS JOIN signup_ride_requested\n",
        "```\n",
        "\n",
        "\n",
        "Answer:\n",
        "* **app_to_signup: 74.6**\n",
        "* **signup_requested: 70.4**"
      ],
      "metadata": {
        "id": "9DznGFFihzgx"
      }
    },
    {
      "cell_type": "markdown",
      "source": [
        "**16. Using the \"percent of previous\" approach, what are the user-level conversion rates for the following 3 stages of the funnel?  1. signup, 2. ride requested, 3. ride completed**\n",
        "\n",
        "\n",
        "```\n",
        "WITH signup_ride_requested AS (\n",
        " SELECT\n",
        "\t(ROUND(((COUNT(DISTINCT user_id)::float)\n",
        "          /(SELECT\n",
        "              COUNT(DISTINCT user_id)\n",
        "           FROM signups))::numeric*100,1)) AS signup_requested\n",
        "FROM ride_requests\n",
        "),\n",
        "\n",
        "requested_completed_ride AS (\n",
        "SELECT\n",
        "\t(ROUND(((COUNT(DISTINCT user_id)::float)\n",
        "          /(SELECT\n",
        "              COUNT(DISTINCT user_id)\n",
        "           FROM ride_requests))::numeric*100,1)) AS requested_completed_rides\n",
        "FROM ride_requests\n",
        "WHERE cancel_ts IS NULL\n",
        ")\n",
        "\n",
        "SELECT\n",
        "\tsignup_requested,\n",
        "    requested_completed_rides\n",
        "FROM signup_ride_requested\n",
        "CROSS JOIN requested_completed_ride\n",
        "```\n",
        "Answer:\n",
        "* **signup_requested: 70.4**\n",
        "* **requested_completed_rides: 50.2**"
      ],
      "metadata": {
        "id": "YI9pZXJIt88c"
      }
    },
    {
      "cell_type": "markdown",
      "source": [
        "# **Annex 9: User-Level Conversion Rates (Percent of Top Approach)**"
      ],
      "metadata": {
        "id": "9TONDSBUqA0q"
      }
    },
    {
      "cell_type": "markdown",
      "source": [
        "**17. Using the \"percent of top\" approach, what are the user-level conversion rates for the first 3 stages of the funnel(app download to signup and signup to ride requested)?**\n",
        "\n",
        "-- \"percent of top\" approach in the context of conversion rates means calculating each stage's conversion rate relative to the number of users at the very top of the funnel\n",
        "\n",
        "\n",
        "\n",
        "```\n",
        "WITH download_signup AS(\n",
        "SELECT\n",
        "\t(ROUND(((COUNT(DISTINCT user_id)::float)\n",
        "          /(SELECT\n",
        "              COUNT(DISTINCT app_download_key)\n",
        "           FROM app_downloads))::numeric*100,1)) AS app_to_signup\n",
        "FROM signups\n",
        "),\n",
        "\n",
        "download_ride_requested AS (\n",
        " SELECT\n",
        "\t(ROUND(((COUNT(DISTINCT r.user_id)::float)\n",
        "          /(SELECT\n",
        "              COUNT(DISTINCT app_download_key)\n",
        "           FROM app_downloads))::numeric*100,1)) AS app_requested\n",
        "FROM ride_requests r\n",
        "FULL JOIN signups s\n",
        "\tON r.user_id = s.user_id\n",
        "FULL JOIN app_downloads ap\n",
        "\tON s.session_id = ap.app_download_key\n",
        ")\n",
        "\n",
        "SELECT\n",
        "\tapp_to_signup,\n",
        "\tapp_requested\n",
        "FROM download_signup\n",
        "CROSS JOIN download_ride_requested\n",
        "```\n",
        "\n",
        "Answer:\n",
        "* **app_to_signup: 74.6**\n",
        "* **app_requested: 52.5**"
      ],
      "metadata": {
        "id": "gPkUdYoOqDRS"
      }
    },
    {
      "cell_type": "markdown",
      "source": [
        "**18. Using the \"percent of top\" approach, what are the user-level conversion rates for the following 3 stages of the funnel? 1. signup, 2. ride requested, 3. ride completed**\n",
        "\n",
        "\n",
        "```\n",
        "WITH signup_ride_requested AS (\n",
        " SELECT\n",
        "\t(ROUND(((COUNT(DISTINCT user_id)::float)\n",
        "          /(SELECT\n",
        "                COUNT(DISTINCT user_id)\n",
        "            FROM signups))::numeric*100,1)) AS signup_requested\n",
        "FROM ride_requests\n",
        "),\n",
        "\n",
        "signup_completed_ride AS (\n",
        "SELECT\n",
        "\t(ROUND(((COUNT(DISTINCT user_id)::float)\n",
        "          /(SELECT\n",
        "                COUNT(DISTINCT user_id)\n",
        "            FROM signups))::numeric*100,1)) AS signups_completed_rides\n",
        "FROM ride_requests\n",
        "WHERE cancel_ts IS NULL\n",
        ")\n",
        "\n",
        "SELECT\n",
        "\tsignup_requested,\n",
        "    signups_completed_rides\n",
        "FROM signup_ride_requested\n",
        "CROSS JOIN signup_completed_ride\n",
        "```\n",
        "\n",
        "\n",
        "Answer:\n",
        "* **signup_requested: 70.4**\n",
        "* **signups_completed_rides: 35.4**"
      ],
      "metadata": {
        "id": "_xhccfO9sP98"
      }
    }
  ]
}